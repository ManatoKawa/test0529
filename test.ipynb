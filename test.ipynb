{
 "cells": [
  {
   "cell_type": "code",
   "execution_count": 1,
   "id": "c8b78a82",
   "metadata": {},
   "outputs": [],
   "source": [
    "a = [10,11,12,13,14,15]"
   ]
  },
  {
   "cell_type": "code",
   "execution_count": 2,
   "id": "f37ffb32",
   "metadata": {},
   "outputs": [],
   "source": [
    "import numpy as np"
   ]
  },
  {
   "cell_type": "code",
   "execution_count": 3,
   "id": "cd8d4485",
   "metadata": {},
   "outputs": [],
   "source": [
    "n_a = np.array(a)"
   ]
  },
  {
   "cell_type": "code",
   "execution_count": 15,
   "id": "4fb49587",
   "metadata": {},
   "outputs": [
    {
     "data": {
      "text/plain": [
       "array([10, 11, 12, 13, 14, 15])"
      ]
     },
     "execution_count": 15,
     "metadata": {},
     "output_type": "execute_result"
    }
   ],
   "source": [
    "n_a"
   ]
  },
  {
   "cell_type": "code",
   "execution_count": 16,
   "id": "df5e74e8",
   "metadata": {},
   "outputs": [
    {
     "data": {
      "text/plain": [
       "10"
      ]
     },
     "execution_count": 16,
     "metadata": {},
     "output_type": "execute_result"
    }
   ],
   "source": [
    "n_a[0]"
   ]
  },
  {
   "cell_type": "code",
   "execution_count": 17,
   "id": "5fa20683",
   "metadata": {},
   "outputs": [
    {
     "data": {
      "text/plain": [
       "11"
      ]
     },
     "execution_count": 17,
     "metadata": {},
     "output_type": "execute_result"
    }
   ],
   "source": [
    "n_a[1]"
   ]
  },
  {
   "cell_type": "code",
   "execution_count": 18,
   "id": "d4f273ce",
   "metadata": {},
   "outputs": [],
   "source": [
    "last_index = len(n_a) -1"
   ]
  },
  {
   "cell_type": "code",
   "execution_count": 19,
   "id": "a973f5b1",
   "metadata": {},
   "outputs": [
    {
     "data": {
      "text/plain": [
       "15"
      ]
     },
     "execution_count": 19,
     "metadata": {},
     "output_type": "execute_result"
    }
   ],
   "source": [
    "n_a[last_index]"
   ]
  },
  {
   "cell_type": "code",
   "execution_count": 20,
   "id": "4cd80ff0",
   "metadata": {},
   "outputs": [
    {
     "data": {
      "text/plain": [
       "15"
      ]
     },
     "execution_count": 20,
     "metadata": {},
     "output_type": "execute_result"
    }
   ],
   "source": [
    "ｎ_a[-1]"
   ]
  },
  {
   "cell_type": "code",
   "execution_count": 21,
   "id": "5cb4f0ff",
   "metadata": {},
   "outputs": [
    {
     "data": {
      "text/plain": [
       "14"
      ]
     },
     "execution_count": 21,
     "metadata": {},
     "output_type": "execute_result"
    }
   ],
   "source": [
    "ｎ_a[-2]"
   ]
  },
  {
   "cell_type": "code",
   "execution_count": 24,
   "id": "a56fe630",
   "metadata": {},
   "outputs": [
    {
     "data": {
      "text/plain": [
       "array([11, 12, 13, 14])"
      ]
     },
     "execution_count": 24,
     "metadata": {},
     "output_type": "execute_result"
    }
   ],
   "source": [
    "n_a[1:5]"
   ]
  },
  {
   "cell_type": "code",
   "execution_count": 25,
   "id": "9a6667f1",
   "metadata": {},
   "outputs": [
    {
     "data": {
      "text/plain": [
       "75"
      ]
     },
     "execution_count": 25,
     "metadata": {},
     "output_type": "execute_result"
    }
   ],
   "source": [
    "np.sum(n_a)"
   ]
  },
  {
   "cell_type": "code",
   "execution_count": 26,
   "id": "c0b0ff55",
   "metadata": {},
   "outputs": [
    {
     "data": {
      "text/plain": [
       "15"
      ]
     },
     "execution_count": 26,
     "metadata": {},
     "output_type": "execute_result"
    }
   ],
   "source": [
    "np.max(n_a)"
   ]
  },
  {
   "cell_type": "code",
   "execution_count": 28,
   "id": "d3f62991",
   "metadata": {},
   "outputs": [
    {
     "data": {
      "text/plain": [
       "10"
      ]
     },
     "execution_count": 28,
     "metadata": {},
     "output_type": "execute_result"
    }
   ],
   "source": [
    "np.min(n_a)"
   ]
  },
  {
   "cell_type": "code",
   "execution_count": 29,
   "id": "55da1e7e",
   "metadata": {},
   "outputs": [
    {
     "data": {
      "text/plain": [
       "12.5"
      ]
     },
     "execution_count": 29,
     "metadata": {},
     "output_type": "execute_result"
    }
   ],
   "source": [
    "np.mean(n_a)"
   ]
  },
  {
   "cell_type": "code",
   "execution_count": 30,
   "id": "287c1ff2",
   "metadata": {},
   "outputs": [],
   "source": [
    "rand = np.random.random(10)"
   ]
  },
  {
   "cell_type": "code",
   "execution_count": 32,
   "id": "d2f91995",
   "metadata": {},
   "outputs": [
    {
     "data": {
      "text/plain": [
       "array([0.03819852, 0.50130417, 0.37723764, 0.79309775, 0.60050878,\n",
       "       0.56050952, 0.40566815, 0.66040524, 0.16543177, 0.9835449 ])"
      ]
     },
     "execution_count": 32,
     "metadata": {},
     "output_type": "execute_result"
    }
   ],
   "source": [
    "rand"
   ]
  },
  {
   "cell_type": "code",
   "execution_count": null,
   "id": "27bb3393",
   "metadata": {},
   "outputs": [],
   "source": []
  }
 ],
 "metadata": {
  "kernelspec": {
   "display_name": "Python 3 (ipykernel)",
   "language": "python",
   "name": "python3"
  },
  "language_info": {
   "codemirror_mode": {
    "name": "ipython",
    "version": 3
   },
   "file_extension": ".py",
   "mimetype": "text/x-python",
   "name": "python",
   "nbconvert_exporter": "python",
   "pygments_lexer": "ipython3",
   "version": "3.8.5"
  }
 },
 "nbformat": 4,
 "nbformat_minor": 5
}
